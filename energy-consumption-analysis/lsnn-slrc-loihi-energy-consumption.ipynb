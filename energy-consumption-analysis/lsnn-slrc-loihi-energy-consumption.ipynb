{
 "cells": [
  {
   "cell_type": "code",
   "execution_count": 1,
   "id": "b92da0b9",
   "metadata": {},
   "outputs": [
    {
     "name": "stdout",
     "output_type": "stream",
     "text": [
      "Running the LDSNN network...\n",
      "\u001b[1;30mINFO\u001b[0m:\u001b[34mDRV\u001b[0m:  SLURM is being run in background\n"
     ]
    },
    {
     "name": "stderr",
     "output_type": "stream",
     "text": [
      "/homes/rgaurav/nxsdk_1_nengo_loihi/lib/python3.8/site-packages/nengo_loihi/builder/ensemble.py:164: UserWarning: NengoLoihi does not support initial values for 'voltage' being non-zero on SpikingRectifiedLinear neurons. On the chip, all values will be initialized to zero.\n",
      "  warnings.warn(\n"
     ]
    },
    {
     "name": "stdout",
     "output_type": "stream",
     "text": [
      "\u001b[1;30mINFO\u001b[0m:\u001b[34mDRV\u001b[0m:  Connecting to 10.212.98.104:41323\n",
      "\u001b[1;30mINFO\u001b[0m:\u001b[34mDRV\u001b[0m:      Host server up..............Done 0.21s\n",
      "\u001b[1;30mINFO\u001b[0m:\u001b[34mDRV\u001b[0m:      Encoding axons/synapses.....Done 3.59ms\n",
      "\u001b[1;30mINFO\u001b[0m:\u001b[34mDRV\u001b[0m:      Compiling Embedded snips....Done 0.27s\n",
      "\u001b[1;30mINFO\u001b[0m:\u001b[34mDRV\u001b[0m:      Compiling MPDS Registers....Done 0.58ms\n",
      "\u001b[1;30mINFO\u001b[0m:\u001b[34mHST\u001b[0m:  Args chip=0 cpu=0 /homes/rgaurav/nxsdk_1_nengo_loihi/lib/python3.8/site-packages/nxsdk/driver/compilers/../../../temp/1674103407.7524555/launcher_chip0_lmt0.bin --chips=1 --remote-relay=0 --cpu-active-ratio=1 \n",
      "\u001b[1;30mINFO\u001b[0m:\u001b[34mHST\u001b[0m:  Nx...\n",
      "\u001b[1;30mINFO\u001b[0m:\u001b[34mDRV\u001b[0m:      Booting up..................Done 0.78s\n",
      "\u001b[1;30mINFO\u001b[0m:\u001b[34mDRV\u001b[0m:      Encoding probes.............Done 0.45ms\n",
      "\u001b[1;30mINFO\u001b[0m:\u001b[34mDRV\u001b[0m:      Transferring probes.........Done 6.31ms\n",
      "\u001b[1;30mINFO\u001b[0m:\u001b[34mDRV\u001b[0m:      Configuring registers.......Done 4.00ms\n",
      "\u001b[1;30mINFO\u001b[0m:\u001b[34mDRV\u001b[0m:      Transferring spikes.........Done 0.01s\n",
      "\u001b[1;30mINFO\u001b[0m:\u001b[34mDRV\u001b[0m:      Executing...................Done 0.09s\n",
      "\u001b[1;30mINFO\u001b[0m:\u001b[34mDRV\u001b[0m:      Processing timeseries.......Done 0.02s\n",
      "\u001b[1;30mINFO\u001b[0m:\u001b[34mDRV\u001b[0m:  Executor: 140 timesteps.........Done 0.15s\n",
      "\u001b[1;30mINFO\u001b[0m:\u001b[34mHST\u001b[0m:  chip=0 cpu=0 halted, status=0x0\n",
      "Done!!!\n"
     ]
    },
    {
     "name": "stderr",
     "output_type": "stream",
     "text": [
      "/homes/rgaurav/nxsdk_1_nengo_loihi/lib/python3.8/site-packages/numpy/core/fromnumeric.py:3372: RuntimeWarning: Mean of empty slice.\n",
      "  return _methods._mean(a, axis=axis, dtype=dtype,\n",
      "/homes/rgaurav/nxsdk_1_nengo_loihi/lib/python3.8/site-packages/numpy/core/_methods.py:170: RuntimeWarning: invalid value encountered in double_scalars\n",
      "  ret = ret.dtype.type(ret / rcount)\n"
     ]
    }
   ],
   "source": [
    "import nengo\n",
    "import nengo_loihi\n",
    "from nxsdk.graph.monitor.probes import PerformanceProbeCondition\n",
    "from nxsdk.api.n2a import ProbeParameter\n",
    "import numpy as np\n",
    "\n",
    "run_time = 0.140\n",
    "dt = 0.001\n",
    "\n",
    "############  My code for LDSNN ###################\n",
    "from ldsnn import get_nengo_ldsnn_model, get_A_p_and_B_p_matrices, get_enc_transform_matrix\n",
    "\n",
    "d = 10\n",
    "A_p, B_p = get_A_p_and_B_p_matrices(d)\n",
    "t_mat = get_enc_transform_matrix(d)\n",
    "np.random.seed(45)\n",
    "lyr_e2h = np.random.rand(2*d, 3*d)\n",
    "np.random.seed(45)\n",
    "lyr_h2o = np.random.rand(3*d, 2)\n",
    "x = np.random.rand(int(run_time*1000)) - 1.0\n",
    "\n",
    "net = get_nengo_ldsnn_model(x, A_p, B_p, t_mat, lyr_e2h, lyr_h2o, d)\n",
    "################################################\n",
    "\n",
    "############  My code for SLRC ###################\n",
    "# from slrc import get_nengo_slrc_model, get_A_p_and_B_p_matrices\n",
    "# d = 10\n",
    "# A_p, B_p = get_A_p_and_B_p_matrices(d)\n",
    "# x = np.random.rand(int(run_time*1000)) - 1.0\n",
    "\n",
    "# net = get_nengo_slrc_model(x, A_p, B_p, d, n_nrns=100)\n",
    "################################################\n",
    "\n",
    "sim = nengo_loihi.Simulator(net, dt=dt)\n",
    "board = sim.sims[\"loihi\"].nxsdk_board\n",
    "probe_cond = PerformanceProbeCondition(\n",
    "    tStart=1, tEnd=int(run_time / dt)*1, bufferSize=1024 * 2, binSize=4\n",
    ")\n",
    "e_probe = board.probe(ProbeParameter.ENERGY, probe_cond)\n",
    "\n",
    "with sim:\n",
    "    sim.run(run_time)\n",
    "    \n",
    "print(\"Done!!!\")"
   ]
  },
  {
   "cell_type": "code",
   "execution_count": 2,
   "id": "cde7e2fb",
   "metadata": {},
   "outputs": [
    {
     "data": {
      "text/plain": [
       "(72564.272, 'uJ')"
      ]
     },
     "execution_count": 2,
     "metadata": {},
     "output_type": "execute_result"
    }
   ],
   "source": [
    "e_probe.totalEnergy, e_probe.energyUnits"
   ]
  },
  {
   "cell_type": "markdown",
   "id": "00d30468",
   "metadata": {},
   "source": [
    "# #######################################################"
   ]
  },
  {
   "cell_type": "code",
   "execution_count": 3,
   "id": "14e15f6c",
   "metadata": {
    "scrolled": true
   },
   "outputs": [
    {
     "data": {
      "text/plain": [
       "'uJ'"
      ]
     },
     "execution_count": 3,
     "metadata": {},
     "output_type": "execute_result"
    }
   ],
   "source": [
    "e_probe.energyUnits"
   ]
  },
  {
   "cell_type": "code",
   "execution_count": 4,
   "id": "b151d10f",
   "metadata": {
    "scrolled": false
   },
   "outputs": [
    {
     "name": "stdout",
     "output_type": "stream",
     "text": [
      "(140,)\n",
      "[832.546 553.729 517.022 513.117 533.423 512.336 510.774 521.708 570.13\n",
      " 525.613 525.613 511.555 510.774 523.27  515.46  511.555 564.663 525.613\n",
      " 522.489 512.336 511.555 519.365 568.568 520.146 514.679 507.65  517.803\n",
      " 506.869 516.241 505.307 504.526 501.402 596.684 538.89  523.27  509.993\n",
      " 505.307 523.27  522.489 513.898 499.84  507.65  501.402 513.117 506.088\n",
      " 511.555 517.803 509.993 498.278 511.555 511.555 519.365 538.89  520.146\n",
      " 510.774 512.336 505.307 502.183 499.059 505.307 518.584 503.745 520.927\n",
      " 511.555 637.296 531.861 502.183 653.697 520.927 518.584 509.993 509.993\n",
      " 499.84  504.526 513.117 512.336 496.716 512.336 499.059 525.613 510.774\n",
      " 502.964 518.584 508.431 515.46  506.088 513.117 525.613 515.46  506.869\n",
      " 492.811 517.022 499.059 502.183 492.811 510.774 517.022 511.555 513.117\n",
      " 513.898 511.555 506.088 498.278 514.679 506.088 507.65  500.621 505.307\n",
      " 512.336 517.803 513.898 519.365 524.832 529.518 513.117 508.431 499.84\n",
      " 505.307 518.584 518.584 508.431 506.088 504.526 519.365 511.555 502.964\n",
      " 504.526 499.84  720.082 540.452 513.898 506.088 517.803 518.584 508.431\n",
      " 505.307 511.555 517.803 506.088 268.664]\n",
      "72564.272\n"
     ]
    }
   ],
   "source": [
    "print(e_probe.totalEnergyPerTimeStep.shape) # 1D, total energy per timestep for all energy types and phases\n",
    "print(e_probe.totalEnergyPerTimeStep)\n",
    "print(np.sum(e_probe.totalEnergyPerTimeStep)) # Matches e_probe.totalEnergy"
   ]
  },
  {
   "cell_type": "code",
   "execution_count": 5,
   "id": "45c4c0f7",
   "metadata": {},
   "outputs": [
    {
     "data": {
      "text/plain": [
       "(<_EnergyTypeEnum.VDD: 0>, <_EnergyTypeEnum.VDDM: 1>)"
      ]
     },
     "execution_count": 5,
     "metadata": {},
     "output_type": "execute_result"
    }
   ],
   "source": [
    "e_probe.EnergyType(0), e_probe.EnergyType(1)"
   ]
  },
  {
   "cell_type": "code",
   "execution_count": 6,
   "id": "b0eb278d",
   "metadata": {},
   "outputs": [
    {
     "data": {
      "image/png": "[encoded data removed]",
      "text/plain": [
       "<Figure size 432x288 with 1 Axes>"
      ]
     },
     "metadata": {
      "needs_background": "light"
     },
     "output_type": "display_data"
    }
   ],
   "source": [
    "e_probe.plotEnergyType(0) # VDD Plot with energy = NeuroCores + Embedded Lakemont CPU + everything else"
   ]
  },
  {
   "cell_type": "code",
   "execution_count": 7,
   "id": "686e0095",
   "metadata": {
    "scrolled": true
   },
   "outputs": [
    {
     "data": {
      "text/plain": [
       "(140, <enum '_EnergyPhaseEnum'>, <enum '_EnergyTypeEnum'>)"
      ]
     },
     "execution_count": 7,
     "metadata": {},
     "output_type": "execute_result"
    }
   ],
   "source": [
    "e_probe.NUM_ENERGY_VALUES, e_probe.EnergyPhase, e_probe.EnergyType"
   ]
  },
  {
   "cell_type": "code",
   "execution_count": 8,
   "id": "9343ed72",
   "metadata": {},
   "outputs": [
    {
     "data": {
      "text/plain": [
       "72564.272"
      ]
     },
     "execution_count": 8,
     "metadata": {},
     "output_type": "execute_result"
    }
   ],
   "source": [
    "e_probe.totalEnergy"
   ]
  }
 ],
 "metadata": {
  "kernelspec": {
   "display_name": "Python 3",
   "language": "python",
   "name": "python3"
  },
  "language_info": {
   "codemirror_mode": {
    "name": "ipython",
    "version": 3
   },
   "file_extension": ".py",
   "mimetype": "text/x-python",
   "name": "python",
   "nbconvert_exporter": "python",
   "pygments_lexer": "ipython3",
   "version": "3.8.10"
  }
 },
 "nbformat": 4,
 "nbformat_minor": 5
}
