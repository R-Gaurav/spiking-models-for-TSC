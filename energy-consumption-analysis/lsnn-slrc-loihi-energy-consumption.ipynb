{
 "cells": [
  {
   "cell_type": "code",
   "execution_count": 1,
   "id": "b92da0b9",
   "metadata": {},
   "outputs": [
    {
     "name": "stdout",
     "output_type": "stream",
     "text": [
      "Running the LSNN network...\n",
      "\u001b[1;30mINFO\u001b[0m:\u001b[34mDRV\u001b[0m:  SLURM is being run in background\n"
     ]
    },
    {
     "name": "stderr",
     "output_type": "stream",
     "text": [
      "/homes/rgaurav/nxsdk_1_nengo_loihi/lib/python3.8/site-packages/nengo_loihi/builder/ensemble.py:164: UserWarning: NengoLoihi does not support initial values for 'voltage' being non-zero on SpikingRectifiedLinear neurons. On the chip, all values will be initialized to zero.\n",
      "  warnings.warn(\n"
     ]
    },
    {
     "name": "stdout",
     "output_type": "stream",
     "text": [
      "\u001b[1;30mINFO\u001b[0m:\u001b[34mDRV\u001b[0m:  Connecting to 10.212.98.104:41979\n",
      "\u001b[1;30mINFO\u001b[0m:\u001b[34mDRV\u001b[0m:      Host server up..............Done 0.18s\n",
      "\u001b[1;30mINFO\u001b[0m:\u001b[34mDRV\u001b[0m:      Encoding axons/synapses.....Done 2.62ms\n",
      "\u001b[1;30mINFO\u001b[0m:\u001b[34mDRV\u001b[0m:      Compiling Embedded snips....Done 0.16s\n",
      "\u001b[1;30mINFO\u001b[0m:\u001b[34mDRV\u001b[0m:      Compiling MPDS Registers....Done 0.41ms\n",
      "\u001b[1;30mINFO\u001b[0m:\u001b[34mHST\u001b[0m:  Args chip=0 cpu=0 /homes/rgaurav/nxsdk_1_nengo_loihi/lib/python3.8/site-packages/nxsdk/driver/compilers/../../../temp/1674104415.5922291/launcher_chip0_lmt0.bin --chips=1 --remote-relay=0 --cpu-active-ratio=1 \n",
      "\u001b[1;30mINFO\u001b[0m:\u001b[34mHST\u001b[0m:  Nx...\n",
      "\u001b[1;30mINFO\u001b[0m:\u001b[34mDRV\u001b[0m:      Booting up..................Done 0.78s\n",
      "\u001b[1;30mINFO\u001b[0m:\u001b[34mDRV\u001b[0m:      Encoding probes.............Done 0.42ms\n",
      "\u001b[1;30mINFO\u001b[0m:\u001b[34mDRV\u001b[0m:      Transferring probes.........Done 5.39ms\n",
      "\u001b[1;30mINFO\u001b[0m:\u001b[34mDRV\u001b[0m:      Configuring registers.......Done 3.12ms\n",
      "\u001b[1;30mINFO\u001b[0m:\u001b[34mDRV\u001b[0m:      Transferring spikes.........Done 0.01s\n",
      "\u001b[1;30mINFO\u001b[0m:\u001b[34mDRV\u001b[0m:      Executing...................Done 0.09s\n",
      "\u001b[1;30mINFO\u001b[0m:\u001b[34mDRV\u001b[0m:      Processing timeseries.......Done 0.02s\n",
      "\u001b[1;30mINFO\u001b[0m:\u001b[34mDRV\u001b[0m:  Executor: 140 timesteps.........Done 0.14s\n",
      "\u001b[1;30mINFO\u001b[0m:\u001b[34mHST\u001b[0m:  chip=0 cpu=0 halted, status=0x0\n",
      "Done!!!\n"
     ]
    },
    {
     "name": "stderr",
     "output_type": "stream",
     "text": [
      "/homes/rgaurav/nxsdk_1_nengo_loihi/lib/python3.8/site-packages/numpy/core/fromnumeric.py:3372: RuntimeWarning: Mean of empty slice.\n",
      "  return _methods._mean(a, axis=axis, dtype=dtype,\n",
      "/homes/rgaurav/nxsdk_1_nengo_loihi/lib/python3.8/site-packages/numpy/core/_methods.py:170: RuntimeWarning: invalid value encountered in double_scalars\n",
      "  ret = ret.dtype.type(ret / rcount)\n"
     ]
    }
   ],
   "source": [
    "import nengo\n",
    "import nengo_loihi\n",
    "from nxsdk.graph.monitor.probes import PerformanceProbeCondition\n",
    "from nxsdk.api.n2a import ProbeParameter\n",
    "import numpy as np\n",
    "\n",
    "run_time = 0.140\n",
    "dt = 0.001\n",
    "\n",
    "############  My code for LSNN ###################\n",
    "from lsnn import get_nengo_lsnn_model, get_A_p_and_B_p_matrices, get_enc_transform_matrix\n",
    "\n",
    "d = 10\n",
    "A_p, B_p = get_A_p_and_B_p_matrices(d)\n",
    "t_mat = get_enc_transform_matrix(d)\n",
    "np.random.seed(45)\n",
    "lyr_e2h = np.random.rand(2*d, 3*d)\n",
    "np.random.seed(45)\n",
    "lyr_h2o = np.random.rand(3*d, 2)\n",
    "x = np.random.rand(int(run_time*1000)) - 1.0\n",
    "\n",
    "net = get_nengo_lsnn_model(x, A_p, B_p, t_mat, lyr_e2h, lyr_h2o, d)\n",
    "################################################\n",
    "\n",
    "############  My code for SLRC ###################\n",
    "# from slrc import get_nengo_slrc_model, get_A_p_and_B_p_matrices\n",
    "# d = 10\n",
    "# A_p, B_p = get_A_p_and_B_p_matrices(d)\n",
    "# x = np.random.rand(int(run_time*1000)) - 1.0\n",
    "\n",
    "# net = get_nengo_slrc_model(x, A_p, B_p, d, n_nrns=100)\n",
    "################################################\n",
    "\n",
    "sim = nengo_loihi.Simulator(net, dt=dt)\n",
    "board = sim.sims[\"loihi\"].nxsdk_board\n",
    "probe_cond = PerformanceProbeCondition(\n",
    "    tStart=1, tEnd=int(run_time / dt)*1, bufferSize=1024 * 2, binSize=4\n",
    ")\n",
    "e_probe = board.probe(ProbeParameter.ENERGY, probe_cond)\n",
    "\n",
    "with sim:\n",
    "    sim.run(run_time)\n",
    "    \n",
    "print(\"Done!!!\")"
   ]
  },
  {
   "cell_type": "code",
   "execution_count": 2,
   "id": "cde7e2fb",
   "metadata": {},
   "outputs": [
    {
     "data": {
      "text/plain": [
       "(73779.64799999999, 'uJ')"
      ]
     },
     "execution_count": 2,
     "metadata": {},
     "output_type": "execute_result"
    }
   ],
   "source": [
    "e_probe.totalEnergy, e_probe.energyUnits"
   ]
  },
  {
   "cell_type": "markdown",
   "id": "00d30468",
   "metadata": {},
   "source": [
    "# #######################################################"
   ]
  },
  {
   "cell_type": "code",
   "execution_count": 3,
   "id": "14e15f6c",
   "metadata": {
    "scrolled": true
   },
   "outputs": [
    {
     "data": {
      "text/plain": [
       "'uJ'"
      ]
     },
     "execution_count": 3,
     "metadata": {},
     "output_type": "execute_result"
    }
   ],
   "source": [
    "e_probe.energyUnits"
   ]
  },
  {
   "cell_type": "code",
   "execution_count": 4,
   "id": "b151d10f",
   "metadata": {
    "scrolled": false
   },
   "outputs": [
    {
     "name": "stdout",
     "output_type": "stream",
     "text": [
      "(140,)\n",
      "[794.408 557.2   515.012 520.584 553.22  518.992 523.768 527.748 577.896\n",
      " 524.564 514.216 522.176 515.012 520.584 522.176 521.38  576.304 540.484\n",
      " 531.728 518.992 525.36  520.584 506.256 581.876 530.136 524.564 520.584\n",
      " 519.788 539.688 519.788 524.564 513.42  620.084 539.688 519.788 523.768\n",
      " 526.952 518.992 527.748 529.34  518.196 519.788 511.828 525.36  521.38\n",
      " 520.584 506.256 526.156 511.032 514.216 514.216 518.196 521.38  550.036\n",
      " 522.972 520.584 512.624 522.176 518.992 512.624 526.952 503.868 534.912\n",
      " 538.892 646.352 532.524 531.728 515.012 673.416 528.544 526.156 525.36\n",
      " 526.952 515.012 513.42  514.216 512.624 525.36  510.236 514.216 512.624\n",
      " 512.624 516.604 521.38  526.952 526.156 515.012 526.952 520.584 526.952\n",
      " 523.768 507.848 513.42  521.38  520.584 513.42  509.44  518.992 526.156\n",
      " 526.952 515.808 526.952 507.052 528.544 525.36  522.972 520.584 518.196\n",
      " 508.644 515.012 526.156 515.012 517.4   514.216 517.4   526.952 537.3\n",
      " 518.992 514.216 522.176 520.584 522.176 516.604 526.952 519.788 513.42\n",
      " 522.972 510.236 694.908 546.852 532.524 523.768 508.644 521.38  508.644\n",
      " 525.36  510.236 526.952 533.32  273.824]\n",
      "73779.64799999999\n"
     ]
    }
   ],
   "source": [
    "print(e_probe.totalEnergyPerTimeStep.shape) # 1D, total energy per timestep for all energy types and phases\n",
    "print(e_probe.totalEnergyPerTimeStep)\n",
    "print(np.sum(e_probe.totalEnergyPerTimeStep)) # Matches e_probe.totalEnergy"
   ]
  },
  {
   "cell_type": "code",
   "execution_count": 5,
   "id": "45c4c0f7",
   "metadata": {},
   "outputs": [
    {
     "data": {
      "text/plain": [
       "(<_EnergyTypeEnum.VDD: 0>, <_EnergyTypeEnum.VDDM: 1>)"
      ]
     },
     "execution_count": 5,
     "metadata": {},
     "output_type": "execute_result"
    }
   ],
   "source": [
    "e_probe.EnergyType(0), e_probe.EnergyType(1)"
   ]
  },
  {
   "cell_type": "code",
   "execution_count": 6,
   "id": "b0eb278d",
   "metadata": {},
   "outputs": [
    {
     "data": {
      "image/png": "[encoded data removed]",
      "text/plain": [
       "<Figure size 432x288 with 1 Axes>"
      ]
     },
     "metadata": {
      "needs_background": "light"
     },
     "output_type": "display_data"
    }
   ],
   "source": [
    "e_probe.plotEnergyType(0) # VDD Plot with energy = NeuroCores + Embedded Lakemont CPU + everything else"
   ]
  },
  {
   "cell_type": "code",
   "execution_count": 7,
   "id": "686e0095",
   "metadata": {
    "scrolled": true
   },
   "outputs": [
    {
     "data": {
      "text/plain": [
       "(140, <enum '_EnergyPhaseEnum'>, <enum '_EnergyTypeEnum'>)"
      ]
     },
     "execution_count": 7,
     "metadata": {},
     "output_type": "execute_result"
    }
   ],
   "source": [
    "e_probe.NUM_ENERGY_VALUES, e_probe.EnergyPhase, e_probe.EnergyType"
   ]
  },
  {
   "cell_type": "code",
   "execution_count": 8,
   "id": "9343ed72",
   "metadata": {},
   "outputs": [
    {
     "data": {
      "text/plain": [
       "73779.64799999999"
      ]
     },
     "execution_count": 8,
     "metadata": {},
     "output_type": "execute_result"
    }
   ],
   "source": [
    "e_probe.totalEnergy"
   ]
  },
  {
   "cell_type": "code",
   "execution_count": null,
   "id": "31f9a1c5",
   "metadata": {},
   "outputs": [],
   "source": []
  }
 ],
 "metadata": {
  "kernelspec": {
   "display_name": "Python 3",
   "language": "python",
   "name": "python3"
  },
  "language_info": {
   "codemirror_mode": {
    "name": "ipython",
    "version": 3
   },
   "file_extension": ".py",
   "mimetype": "text/x-python",
   "name": "python",
   "nbconvert_exporter": "python",
   "pygments_lexer": "ipython3",
   "version": "3.8.10"
  }
 },
 "nbformat": 4,
 "nbformat_minor": 5
}
