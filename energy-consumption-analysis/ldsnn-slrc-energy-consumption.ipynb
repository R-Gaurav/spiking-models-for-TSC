{
 "cells": [
  {
   "cell_type": "code",
   "execution_count": 1,
   "id": "b92da0b9",
   "metadata": {},
   "outputs": [
    {
     "name": "stdout",
     "output_type": "stream",
     "text": [
      "Running the LDSNN network...\n",
      "\u001b[1;30mINFO\u001b[0m:\u001b[34mDRV\u001b[0m:  SLURM is being run in background\n"
     ]
    },
    {
     "name": "stderr",
     "output_type": "stream",
     "text": [
      "/homes/rgaurav/nxsdk_1_nengo_loihi/lib/python3.8/site-packages/nengo_loihi/builder/ensemble.py:164: UserWarning: NengoLoihi does not support initial values for 'voltage' being non-zero on SpikingRectifiedLinear neurons. On the chip, all values will be initialized to zero.\n",
      "  warnings.warn(\n"
     ]
    },
    {
     "name": "stdout",
     "output_type": "stream",
     "text": [
      "\u001b[1;30mINFO\u001b[0m:\u001b[34mDRV\u001b[0m:  Connecting to 10.212.98.104:42081\n",
      "\u001b[1;30mINFO\u001b[0m:\u001b[34mDRV\u001b[0m:      Host server up..............Done 0.18s\n",
      "\u001b[1;30mINFO\u001b[0m:\u001b[34mDRV\u001b[0m:      Encoding axons/synapses.....Done 3.35ms\n",
      "\u001b[1;30mINFO\u001b[0m:\u001b[34mDRV\u001b[0m:      Compiling Embedded snips....Done 0.17s\n",
      "\u001b[1;30mINFO\u001b[0m:\u001b[34mDRV\u001b[0m:      Compiling MPDS Registers....Done 0.51ms\n",
      "\u001b[1;30mINFO\u001b[0m:\u001b[34mHST\u001b[0m:  Args chip=0 cpu=0 /homes/rgaurav/nxsdk_1_nengo_loihi/lib/python3.8/site-packages/nxsdk/driver/compilers/../../../temp/1674072761.9168742/launcher_chip0_lmt0.bin --chips=1 --remote-relay=0 --cpu-active-ratio=1 \n",
      "\u001b[1;30mINFO\u001b[0m:\u001b[34mHST\u001b[0m:  Nx...\n",
      "\u001b[1;30mINFO\u001b[0m:\u001b[34mDRV\u001b[0m:      Booting up..................Done 0.78s\n",
      "\u001b[1;30mINFO\u001b[0m:\u001b[34mDRV\u001b[0m:      Encoding probes.............Done 0.38ms\n",
      "\u001b[1;30mINFO\u001b[0m:\u001b[34mDRV\u001b[0m:      Transferring probes.........Done 5.38ms\n",
      "\u001b[1;30mINFO\u001b[0m:\u001b[34mDRV\u001b[0m:      Configuring registers.......Done 3.78ms\n",
      "\u001b[1;30mINFO\u001b[0m:\u001b[34mDRV\u001b[0m:      Transferring spikes.........Done 0.01s\n",
      "\u001b[1;30mINFO\u001b[0m:\u001b[34mDRV\u001b[0m:      Executing...................Done 0.09s\n",
      "\u001b[1;30mINFO\u001b[0m:\u001b[34mDRV\u001b[0m:      Processing timeseries.......Done 0.02s\n",
      "\u001b[1;30mINFO\u001b[0m:\u001b[34mDRV\u001b[0m:  Executor: 140 timesteps.........Done 0.14s\n",
      "\u001b[1;30mINFO\u001b[0m:\u001b[34mHST\u001b[0m:  chip=0 cpu=0 halted, status=0x0\n",
      "Done!!!\n"
     ]
    },
    {
     "name": "stderr",
     "output_type": "stream",
     "text": [
      "/homes/rgaurav/nxsdk_1_nengo_loihi/lib/python3.8/site-packages/numpy/core/fromnumeric.py:3372: RuntimeWarning: Mean of empty slice.\n",
      "  return _methods._mean(a, axis=axis, dtype=dtype,\n",
      "/homes/rgaurav/nxsdk_1_nengo_loihi/lib/python3.8/site-packages/numpy/core/_methods.py:170: RuntimeWarning: invalid value encountered in double_scalars\n",
      "  ret = ret.dtype.type(ret / rcount)\n"
     ]
    }
   ],
   "source": [
    "import nengo\n",
    "import nengo_loihi\n",
    "from nxsdk.graph.monitor.probes import PerformanceProbeCondition\n",
    "from nxsdk.api.n2a import ProbeParameter\n",
    "import numpy as np\n",
    "\n",
    "run_time = 0.140\n",
    "dt = 0.001\n",
    "\n",
    "############  My code for LDSNN ###################\n",
    "from ldsnn import get_nengo_ldsnn_model, get_A_p_and_B_p_matrices, get_enc_transform_matrix\n",
    "\n",
    "d = 10\n",
    "A_p, B_p = get_A_p_and_B_p_matrices(d)\n",
    "t_mat = get_enc_transform_matrix(d)\n",
    "np.random.seed(45)\n",
    "lyr_e2h = np.random.rand(2*d, 3*d)\n",
    "np.random.seed(45)\n",
    "lyr_h2o = np.random.rand(3*d, 2)\n",
    "x = np.random.rand(int(run_time*1000)) - 1.0\n",
    "\n",
    "net = get_nengo_ldsnn_model(x, A_p, B_p, t_mat, lyr_e2h, lyr_h2o, d)\n",
    "################################################\n",
    "\n",
    "############  My code for SLRC ###################\n",
    "# from slrc import get_nengo_slrc_model, get_A_p_and_B_p_matrices\n",
    "# d = 10\n",
    "# A_p, B_p = get_A_p_and_B_p_matrices(d)\n",
    "# x = np.random.rand(int(run_time*1000)) - 1.0\n",
    "\n",
    "# net = get_nengo_slrc_model(x, A_p, B_p, d, n_nrns=100)\n",
    "################################################\n",
    "\n",
    "sim = nengo_loihi.Simulator(net, dt=dt)\n",
    "board = sim.sims[\"loihi\"].nxsdk_board\n",
    "probe_cond = PerformanceProbeCondition(\n",
    "    tStart=1, tEnd=int(run_time / dt)*1, bufferSize=1024 * 2, binSize=4\n",
    ")\n",
    "e_probe = board.probe(ProbeParameter.ENERGY, probe_cond)\n",
    "\n",
    "with sim:\n",
    "    sim.run(run_time)\n",
    "    \n",
    "print(\"Done!!!\")"
   ]
  },
  {
   "cell_type": "code",
   "execution_count": 2,
   "id": "cde7e2fb",
   "metadata": {},
   "outputs": [
    {
     "data": {
      "text/plain": [
       "(72627.415, 'uJ')"
      ]
     },
     "execution_count": 2,
     "metadata": {},
     "output_type": "execute_result"
    }
   ],
   "source": [
    "e_probe.totalEnergy, e_probe.energyUnits"
   ]
  },
  {
   "cell_type": "markdown",
   "id": "00d30468",
   "metadata": {},
   "source": [
    "# #######################################################"
   ]
  },
  {
   "cell_type": "code",
   "execution_count": 12,
   "id": "14e15f6c",
   "metadata": {
    "scrolled": true
   },
   "outputs": [
    {
     "data": {
      "text/plain": [
       "'uJ'"
      ]
     },
     "execution_count": 12,
     "metadata": {},
     "output_type": "execute_result"
    }
   ],
   "source": [
    "e_probe.energyUnits"
   ]
  },
  {
   "cell_type": "code",
   "execution_count": 7,
   "id": "548d1a12",
   "metadata": {
    "scrolled": true
   },
   "outputs": [
    {
     "name": "stdout",
     "output_type": "stream",
     "text": [
      "['EnergyPhase', 'EnergyType', 'NUM_ENERGY_PHASES', 'NUM_ENERGY_TYPES', 'NUM_ENERGY_VALUES', '_EnergyPhaseEnum', '_EnergyTypeEnum', '__abstractmethods__', '__class__', '__delattr__', '__dict__', '__dir__', '__doc__', '__eq__', '__format__', '__ge__', '__getattribute__', '__gt__', '__hash__', '__init__', '__init_subclass__', '__le__', '__lt__', '__module__', '__ne__', '__new__', '__reduce__', '__reduce_ex__', '__repr__', '__setattr__', '__sizeof__', '__slots__', '__str__', '__subclasshook__', '__weakref__', '_abc_impl', '_aggregateDataPerTimeStep', '_aggregateRawPowerData', '_assertProbeReady', '_collectPerRunData', '_computeEnergies', '_energyArray', '_getTimeStampOffset', '_numpyEnergyArray', '_updateProbe', 'allTimeStamps', 'binSize', 'bufferSize', 'done', 'endTimeStamps', 'energyUnits', 'etMonitor', 'getEnergyPerTimeStep', 'hostPhaseEnergyPerTimeStep', 'hostTimePerTimeStep', 'id', 'isDone', 'isReady', 'learningPhaseEnergyPerTimeStep', 'learningTimePerTimeStep', 'managementPhaseEnergyPerTimeStep', 'managementTimePerTimeStep', 'numRuns', 'numSteps', 'numStepsMax', 'numStepsRan', 'plotEnergy', 'plotEnergyPhase', 'plotEnergyType', 'plotExecutionTime', 'plotPower', 'plotTemp', 'power', 'powerProbeDataPerRunList', 'powerUnits', 'powerVdd', 'powerVdda', 'powerVddio', 'powerVddm', 'preLearnManagementPhaseEnergyPerTimeStep', 'preLearningMgmtTimePerTimeStep', 'probeCondition', 'probeDataFactory', 'rawPowerTimeStamps', 'rawPowerTotal', 'rawPowerVdd', 'rawPowerVdda', 'rawPowerVddio', 'rawPowerVddm', 'spikingPhaseEnergyPerTimeStep', 'spikingTimePerTimeStep', 'startTimeStamps', 'tEnd', 'tStart', 'tempMean', 'tempUnits', 'tempVdd', 'tempVddm', 'time', 'timeProbeDataPerRunList', 'timeSteps', 'timeUnits', 'totalEnergy', 'totalEnergyPerTimeStep', 'totalExecutionTime', 'totalHostPhaseEnergy', 'totalHostTime', 'totalLearningPhaseEnergy', 'totalLearningTime', 'totalManagementPhaseEnergy', 'totalManagementTime', 'totalPreLearnManagementPhaseEnergy', 'totalPreLearningMgmtTime', 'totalSpikingPhaseEnergy', 'totalSpikingTime', 'totalTimePerTimeStep']\n"
     ]
    }
   ],
   "source": [
    "print(dir(e_probe))"
   ]
  },
  {
   "cell_type": "code",
   "execution_count": 22,
   "id": "b151d10f",
   "metadata": {
    "scrolled": false
   },
   "outputs": [
    {
     "name": "stdout",
     "output_type": "stream",
     "text": [
      "(140,)\n",
      "[804.078 548.628 503.04  513.258 536.052 507.756 499.896 500.682 572.208\n",
      " 555.702 524.262 523.476 520.332 518.76  530.55  521.904 569.85  538.41\n",
      " 510.114 510.9   518.76  520.332 521.904 528.978 531.336 528.192 525.048\n",
      " 514.044 510.9   513.258 526.62  519.546 598.932 545.484 518.76  515.616\n",
      " 520.332 525.048 528.978 529.764 509.328 525.834 516.402 520.332 512.472\n",
      " 519.546 532.908 522.69  507.756 532.908 520.332 524.262 529.764 533.694\n",
      " 523.476 526.62  513.258 522.69  525.048 514.044 508.542 510.114 521.904\n",
      " 520.332 638.232 532.122 523.476 523.476 673.602 521.904 518.76  519.546\n",
      " 514.044 523.476 525.834 514.044 521.118 532.122 510.9   525.834 513.258\n",
      " 521.118 514.83  539.196 507.756 532.122 518.76  528.192 519.546 524.262\n",
      " 518.76  513.258 517.188 520.332 506.184 527.406 512.472 510.114 533.694\n",
      " 508.542 506.184 521.118 516.402 533.694 514.83  515.616 520.332 526.62\n",
      " 525.834 522.69  499.896 512.472 532.122 544.698 528.192 522.69  518.76\n",
      " 512.472 524.262 497.538 518.76  518.76  514.83  512.472 522.69  520.332\n",
      " 502.254 525.048 709.758 539.196 498.324 517.974 519.546 517.188 521.118\n",
      " 521.118 513.258 512.472 516.402 270.384]\n",
      "73539.732\n"
     ]
    }
   ],
   "source": [
    "print(e_probe.totalEnergyPerTimeStep.shape) # 1D, total energy per timestep for all energy types and phases\n",
    "print(e_probe.totalEnergyPerTimeStep)\n",
    "print(np.sum(e_probe.totalEnergyPerTimeStep)) # Matches e_probe.totalEnergy"
   ]
  },
  {
   "cell_type": "code",
   "execution_count": 27,
   "id": "45c4c0f7",
   "metadata": {},
   "outputs": [
    {
     "data": {
      "text/plain": [
       "(<_EnergyTypeEnum.VDD: 0>, <_EnergyTypeEnum.VDDM: 1>)"
      ]
     },
     "execution_count": 27,
     "metadata": {},
     "output_type": "execute_result"
    }
   ],
   "source": [
    "e_probe.EnergyType(0), e_probe.EnergyType(1)"
   ]
  },
  {
   "cell_type": "code",
   "execution_count": 29,
   "id": "b0eb278d",
   "metadata": {},
   "outputs": [
    {
     "data": {
      "image/png": "[encoded data removed]",
      "text/plain": [
       "<Figure size 432x288 with 1 Axes>"
      ]
     },
     "metadata": {
      "needs_background": "light"
     },
     "output_type": "display_data"
    }
   ],
   "source": [
    "e_probe.plotEnergyType(0) # VDD Plot with energy = NeuroCores + Embedded Lakemont CPU + everything else"
   ]
  },
  {
   "cell_type": "code",
   "execution_count": 9,
   "id": "686e0095",
   "metadata": {
    "scrolled": true
   },
   "outputs": [
    {
     "data": {
      "text/plain": [
       "(100, <enum '_EnergyPhaseEnum'>, <enum '_EnergyTypeEnum'>)"
      ]
     },
     "execution_count": 9,
     "metadata": {},
     "output_type": "execute_result"
    }
   ],
   "source": [
    "e_probe.NUM_ENERGY_VALUES, e_probe.EnergyPhase, e_probe.EnergyType"
   ]
  },
  {
   "cell_type": "code",
   "execution_count": 11,
   "id": "9343ed72",
   "metadata": {},
   "outputs": [
    {
     "data": {
      "text/plain": [
       "67142.29500000001"
      ]
     },
     "execution_count": 11,
     "metadata": {},
     "output_type": "execute_result"
    }
   ],
   "source": [
    "e_probe.totalEnergy"
   ]
  },
  {
   "cell_type": "code",
   "execution_count": 13,
   "id": "ce571e23",
   "metadata": {},
   "outputs": [
    {
     "data": {
      "text/plain": [
       "67062.45"
      ]
     },
     "execution_count": 13,
     "metadata": {},
     "output_type": "execute_result"
    }
   ],
   "source": [
    "e_probe.totalEnergy"
   ]
  },
  {
   "cell_type": "markdown",
   "id": "34847826",
   "metadata": {},
   "source": [
    "# #################################################################"
   ]
  },
  {
   "cell_type": "code",
   "execution_count": 15,
   "id": "32cabfcc",
   "metadata": {},
   "outputs": [
    {
     "data": {
      "text/plain": [
       "64989.872"
      ]
     },
     "execution_count": 15,
     "metadata": {},
     "output_type": "execute_result"
    }
   ],
   "source": [
    "e_probe.totalEnergy"
   ]
  },
  {
   "cell_type": "code",
   "execution_count": 17,
   "id": "ba0e5645",
   "metadata": {},
   "outputs": [
    {
     "data": {
      "text/plain": [
       "65145.024"
      ]
     },
     "execution_count": 17,
     "metadata": {},
     "output_type": "execute_result"
    }
   ],
   "source": [
    "e_probe.totalEnergy"
   ]
  },
  {
   "cell_type": "code",
   "execution_count": 3,
   "id": "89fc628b",
   "metadata": {},
   "outputs": [
    {
     "data": {
      "text/plain": [
       "65839.02"
      ]
     },
     "execution_count": 3,
     "metadata": {},
     "output_type": "execute_result"
    }
   ],
   "source": [
    "e_probe.totalEnergy"
   ]
  },
  {
   "cell_type": "code",
   "execution_count": null,
   "id": "6c599f78",
   "metadata": {},
   "outputs": [],
   "source": []
  }
 ],
 "metadata": {
  "kernelspec": {
   "display_name": "Python 3",
   "language": "python",
   "name": "python3"
  },
  "language_info": {
   "codemirror_mode": {
    "name": "ipython",
    "version": 3
   },
   "file_extension": ".py",
   "mimetype": "text/x-python",
   "name": "python",
   "nbconvert_exporter": "python",
   "pygments_lexer": "ipython3",
   "version": "3.8.10"
  }
 },
 "nbformat": 4,
 "nbformat_minor": 5
}
