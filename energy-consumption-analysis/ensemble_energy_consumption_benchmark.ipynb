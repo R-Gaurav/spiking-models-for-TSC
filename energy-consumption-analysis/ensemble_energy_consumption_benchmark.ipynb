{
 "cells": [
  {
   "cell_type": "code",
   "execution_count": 3,
   "id": "b92da0b9",
   "metadata": {},
   "outputs": [
    {
     "name": "stderr",
     "output_type": "stream",
     "text": [
      "/homes/rgaurav/nxsdk_1_nengo_loihi/lib/python3.8/site-packages/nengo_loihi/builder/ensemble.py:164: UserWarning: NengoLoihi does not support initial values for 'voltage' being non-zero on SpikingRectifiedLinear neurons. On the chip, all values will be initialized to zero.\n",
      "  warnings.warn(\n",
      "/homes/rgaurav/nxsdk_1_nengo_loihi/lib/python3.8/site-packages/nengo_loihi/builder/discretize.py:481: UserWarning: Lost 2 extra bits in weight rounding\n",
      "  warnings.warn(\"Lost %d extra bits in weight rounding\" % (-s2,))\n"
     ]
    },
    {
     "name": "stdout",
     "output_type": "stream",
     "text": [
      "\u001b[1;30mINFO\u001b[0m:\u001b[34mDRV\u001b[0m:  SLURM is being run in background\n",
      "\u001b[1;30mINFO\u001b[0m:\u001b[34mDRV\u001b[0m:  Connecting to 10.212.98.104:40961\n",
      "\u001b[1;30mINFO\u001b[0m:\u001b[34mDRV\u001b[0m:      Host server up..............Done 0.16s\n",
      "\u001b[1;30mINFO\u001b[0m:\u001b[34mDRV\u001b[0m:      Encoding axons/synapses.....Done 0.21s\n",
      "\u001b[1;30mINFO\u001b[0m:\u001b[34mDRV\u001b[0m:      Compiling Embedded snips....Done 0.16s\n",
      "\u001b[1;30mINFO\u001b[0m:\u001b[34mDRV\u001b[0m:      Compiling MPDS Registers....Done 0.52ms\n",
      "\u001b[1;30mINFO\u001b[0m:\u001b[34mHST\u001b[0m:  Args chip=0 cpu=0 /homes/rgaurav/nxsdk_1_nengo_loihi/lib/python3.8/site-packages/nxsdk/driver/compilers/../../../temp/1674103153.4276457/launcher_chip0_lmt0.bin --chips=1 --remote-relay=0 --cpu-active-ratio=1 \n",
      "\u001b[1;30mINFO\u001b[0m:\u001b[34mHST\u001b[0m:  Nx...\n",
      "\u001b[1;30mINFO\u001b[0m:\u001b[34mDRV\u001b[0m:      Booting up..................Done 0.78s\n",
      "\u001b[1;30mINFO\u001b[0m:\u001b[34mDRV\u001b[0m:      Encoding probes.............Done 0.75ms\n",
      "\u001b[1;30mINFO\u001b[0m:\u001b[34mDRV\u001b[0m:      Transferring probes.........Done 6.52ms\n",
      "\u001b[1;30mINFO\u001b[0m:\u001b[34mDRV\u001b[0m:      Configuring registers.......Done 0.07s\n",
      "\u001b[1;30mINFO\u001b[0m:\u001b[34mDRV\u001b[0m:      Transferring spikes.........Done 6.54ms\n",
      "\u001b[1;30mINFO\u001b[0m:\u001b[34mDRV\u001b[0m:      Executing...................Done 0.08s\n",
      "\u001b[1;30mINFO\u001b[0m:\u001b[34mDRV\u001b[0m:      Processing timeseries.......Done 0.02s\n",
      "\u001b[1;30mINFO\u001b[0m:\u001b[34mDRV\u001b[0m:  Executor: 140 timesteps.........Done 0.19s\n",
      "\u001b[1;30mINFO\u001b[0m:\u001b[34mHST\u001b[0m:  chip=0 cpu=0 halted, status=0x0\n",
      "Done!!!\n"
     ]
    },
    {
     "name": "stderr",
     "output_type": "stream",
     "text": [
      "/homes/rgaurav/nxsdk_1_nengo_loihi/lib/python3.8/site-packages/numpy/core/fromnumeric.py:3372: RuntimeWarning: Mean of empty slice.\n",
      "  return _methods._mean(a, axis=axis, dtype=dtype,\n",
      "/homes/rgaurav/nxsdk_1_nengo_loihi/lib/python3.8/site-packages/numpy/core/_methods.py:170: RuntimeWarning: invalid value encountered in double_scalars\n",
      "  ret = ret.dtype.type(ret / rcount)\n"
     ]
    }
   ],
   "source": [
    "import nengo\n",
    "import nengo_loihi\n",
    "from nxsdk.graph.monitor.probes import PerformanceProbeCondition\n",
    "from nxsdk.api.n2a import ProbeParameter\n",
    "import numpy as np\n",
    "\n",
    "run_time = 0.140\n",
    "dt = 0.001\n",
    "\n",
    "############  Nengo Ensemble code ###################\n",
    "with nengo.Network() as net:\n",
    "  inp = nengo.Node(1)\n",
    "  ens = nengo.Ensemble(4096, dimensions=1, neuron_type=nengo.SpikingRectifiedLinear()) # N=100 or 4096\n",
    "  p = nengo.Probe(ens)\n",
    "  nengo.Connection(inp, ens)\n",
    "\n",
    "################################################\n",
    "\n",
    "sim = nengo_loihi.Simulator(net, dt=dt)\n",
    "board = sim.sims[\"loihi\"].nxsdk_board\n",
    "probe_cond = PerformanceProbeCondition(\n",
    "    tStart=1, tEnd=int(run_time / dt)*10, bufferSize=1024 * 2, binSize=2\n",
    ")\n",
    "e_probe = board.probe(ProbeParameter.ENERGY, probe_cond)\n",
    "\n",
    "with sim:\n",
    "    sim.run(run_time)\n",
    "    \n",
    "print(\"Done!!!\")"
   ]
  },
  {
   "cell_type": "code",
   "execution_count": 4,
   "id": "cde7e2fb",
   "metadata": {},
   "outputs": [
    {
     "data": {
      "text/plain": [
       "(64407.827000000005, 'uJ')"
      ]
     },
     "execution_count": 4,
     "metadata": {},
     "output_type": "execute_result"
    }
   ],
   "source": [
    "e_probe.totalEnergy, e_probe.energyUnits"
   ]
  },
  {
   "cell_type": "markdown",
   "id": "00d30468",
   "metadata": {},
   "source": [
    "# #######################################################"
   ]
  }
 ],
 "metadata": {
  "kernelspec": {
   "display_name": "Python 3",
   "language": "python",
   "name": "python3"
  },
  "language_info": {
   "codemirror_mode": {
    "name": "ipython",
    "version": 3
   },
   "file_extension": ".py",
   "mimetype": "text/x-python",
   "name": "python",
   "nbconvert_exporter": "python",
   "pygments_lexer": "ipython3",
   "version": "3.8.10"
  }
 },
 "nbformat": 4,
 "nbformat_minor": 5
}
